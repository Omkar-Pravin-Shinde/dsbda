{
  "cells": [
    {
      "cell_type": "code",
      "source": [
        "pip install bs4"
      ],
      "metadata": {
        "id": "6CN9nKv-PMJs"
      },
      "execution_count": null,
      "outputs": []
    },
    {
      "cell_type": "code",
      "source": [
        "pip install requests"
      ],
      "metadata": {
        "id": "R27--4sdPVyt"
      },
      "execution_count": null,
      "outputs": []
    },
    {
      "cell_type": "code",
      "source": [
        "import bs4\n",
        "from bs4 import BeautifulSoup\n",
        "import requests"
      ],
      "metadata": {
        "id": "vQrizP51PdjQ"
      },
      "execution_count": 3,
      "outputs": []
    },
    {
      "cell_type": "code",
      "source": [
        "url = \"https://www.ebay.com/itm/275597041743?epid=10056260250&hash=item402add204f:g:~3YAAOSwpCJjYrvG&amdata=enc%3AAQAIAAAA4PXaBg9tKoX1xWOwPvkowLDKd66y6gr7Fvtf4Emi%2Fv9yVCX1caA7RhbrNhNPUD63zpA7zYGf1JYbapS34bDShj3OX3t2RvxxAl4x2%2BlaAbJtG2pIvv%2F0M%2BDbIEwgosbRoiIi85YfJ%2BoCxpmEvsbe7COcsSXd69cq3nOdBDMVHhmIZuETT6XDoRkvX3E7QUNaHt%2BS5EPAp4Sff8GCqi1zNbsLGYXK%2FUvkTBlXwyaWzMcE29iLF16AAEkRVBs0AoXpZvVnAxWAj3xRoZxoUAwnhxI7LIKMNXo6IhzenLITD8tD%7Ctkp%3ABFBMypzzm4ti\""
      ],
      "metadata": {
        "id": "wVu5alIjPw5r"
      },
      "execution_count": 9,
      "outputs": []
    },
    {
      "cell_type": "code",
      "source": [
        "r = requests.get(url)"
      ],
      "metadata": {
        "id": "2GNW-cQ6P4Ux"
      },
      "execution_count": 10,
      "outputs": []
    },
    {
      "cell_type": "code",
      "source": [
        "soup = bs4.BeautifulSoup(r.text, 'html.parser')"
      ],
      "metadata": {
        "id": "Rz_Sf0oIQArY"
      },
      "execution_count": 11,
      "outputs": []
    },
    {
      "cell_type": "code",
      "source": [
        "data =  soup.find('div',{'class':'reviews'}) #all data\n",
        "heading = data.find_all('p',{'class':'review-item-title wrap-spaces'})\n",
        "reviews = data.find_all('p' , {'class':'review-item-content wrap-spaces'})\n",
        "stars = data.find_all('div' , {'class':'ebay-star-rating'})\n",
        "name = data.find_all('a' , {'class':'review-item-author'})"
      ],
      "metadata": {
        "id": "DUxMTx6zQS1H"
      },
      "execution_count": 14,
      "outputs": []
    },
    {
      "cell_type": "code",
      "source": [
        "for i in range(5):\n",
        "    print(\"Name: \",name[i].text)\n",
        "    print(\"Heading: \",heading[i].text)\n",
        "    \n",
        "    print(\"Ratings: \",stars[i]['aria-label'])\n",
        "    print(\"Review: \",reviews[i].text,\"\\n\")\n",
        " \n",
        "  "
      ],
      "metadata": {
        "id": "G6RzVJuGRMH8",
        "outputId": "3abebe92-9f1c-4790-874d-8eccecddbc67",
        "colab": {
          "base_uri": "https://localhost:8080/"
        }
      },
      "execution_count": 18,
      "outputs": [
        {
          "output_type": "stream",
          "name": "stdout",
          "text": [
            "Name:  lv2fidl\n",
            "Heading:  Great phone- but NEW??\n",
            "Ratings:  4.0 out of 5 stars\n",
            "Review:  Great phone, in mint condition- worked well as soon as it came out of the box!  Only negative- when I set up iMusic/ iTunes, it prompted me that in setting it up to my account, it would wipe out the music of someone with an Email that I didn't recognize.  To me, this indicates that this phone wasn't \"NEW\", as advertised- it had been used by someone else previously.  But so far, so good- I was able to get it activated successfully by my mobile phone carrier, & it's been working well for the past week that I've had it. \n",
            "\n",
            "Name:  xu729659\n",
            "Heading:  awesome purchase\n",
            "Ratings:  5.0 out of 5 stars\n",
            "Review:  Like a brand new one. It's been a week and I'm very happy with this product so far \n",
            "\n",
            "Name:  a-dunn\n",
            "Heading:  Satisified\n",
            "Ratings:  5.0 out of 5 stars\n",
            "Review:  I was convinced to make the purchase because of the customer satisfaction rating. I was not disappointed. Thanks! \n",
            "\n",
            "Name:  rengre_98\n",
            "Heading:  Great!\n",
            "Ratings:  5.0 out of 5 stars\n",
            "Review:  Great deal! \n",
            "\n",
            "Name:  mourasccp\n",
            "Heading:  Muito bom\n",
            "Ratings:  5.0 out of 5 stars\n",
            "Review:  Excelente. Comprei como bom, porém havia somente um micro-risco na tela, quase imperceptível. Muito bom \n",
            "\n"
          ]
        }
      ]
    }
  ],
  "metadata": {
    "colab": {
      "provenance": []
    },
    "kernelspec": {
      "display_name": "Python 3",
      "name": "python3"
    }
  },
  "nbformat": 4,
  "nbformat_minor": 0
}